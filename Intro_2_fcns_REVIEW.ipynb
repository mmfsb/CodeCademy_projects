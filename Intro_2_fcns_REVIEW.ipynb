{
 "cells": [
  {
   "cell_type": "code",
   "execution_count": 2,
   "id": "89be3faf-05d3-4f29-95b4-7f734853e317",
   "metadata": {},
   "outputs": [
    {
     "name": "stdout",
     "output_type": "stream",
     "text": [
      "Welcome to tripplanner v1.0 Pugsley \n",
      "Your trip starts off in  Jacksonville \n",
      "And you are traveling to Dog Heaven \n",
      "You will be traveling by Car\n",
      "It will take approximately 2 hours\n"
     ]
    }
   ],
   "source": [
    "# Create a function called trip_planner_welcome() that takes one parameter called name. The function should use print() to output a message\n",
    "def trip_planner_welcome(name):\n",
    "  print(\"Welcome to tripplanner v1.0\" + name)\n",
    "\n",
    "#Create a function called destination_setup() that will have four parameters in this exact order: origin destination estimated_time mode_of_transport\n",
    "# Give the parameter mode_of_transport a default value of \"Car\"\n",
    "def destination_setup(origin, destination, estimated_time, mode_of_transport = \"Car\"):\n",
    "\n",
    "  print(\"Your trip starts off in \" + origin)\n",
    "  print(\"And you are traveling to \" + destination)\n",
    "  print(\"You will be traveling by \" + mode_of_transport)\n",
    "  print(\"It will take approximately \" + str(estimated_time) + \" hours\")\n",
    "    \n",
    "#define a function called estimated_time_rounded() that will allow us to calculate a rounded time value based on a decimal for our user’s trip.\n",
    "def estimated_time_rounded(estimated_time):\n",
    "  rounded_time = round(estimated_time)\n",
    "  return rounded_time\n",
    "\n",
    "# Uncomment these in the last step \n",
    "trip_planner_welcome(\" Pugsley \")\n",
    "estimate = estimated_time_rounded(2.43)\n",
    "destination_setup(\" Jacksonville \", \"Dog Heaven \", estimate, \"Car\")"
   ]
  },
  {
   "cell_type": "code",
   "execution_count": null,
   "id": "93d89f9f-840e-4f1b-9967-ccc88eff7e5b",
   "metadata": {},
   "outputs": [],
   "source": []
  }
 ],
 "metadata": {
  "kernelspec": {
   "display_name": "Python 3.8 (FinTech)",
   "language": "python",
   "name": "fintech"
  },
  "language_info": {
   "codemirror_mode": {
    "name": "ipython",
    "version": 3
   },
   "file_extension": ".py",
   "mimetype": "text/x-python",
   "name": "python",
   "nbconvert_exporter": "python",
   "pygments_lexer": "ipython3",
   "version": "3.8.2"
  }
 },
 "nbformat": 4,
 "nbformat_minor": 5
}
